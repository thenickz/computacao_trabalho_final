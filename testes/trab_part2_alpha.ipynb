{
 "cells": [
  {
   "cell_type": "code",
   "execution_count": 3,
   "metadata": {},
   "outputs": [],
   "source": [
    "import matplotlib.pyplot as plt\n",
    "import numpy as np"
   ]
  },
  {
   "cell_type": "code",
   "execution_count": 4,
   "metadata": {},
   "outputs": [
    {
     "ename": "TypeError",
     "evalue": "slice indices must be integers or None or have an __index__ method",
     "output_type": "error",
     "traceback": [
      "\u001b[1;31m---------------------------------------------------------------------------\u001b[0m",
      "\u001b[1;31mTypeError\u001b[0m                                 Traceback (most recent call last)",
      "\u001b[1;32mC:\\Users\\NCOLAS~1\\AppData\\Local\\Temp/ipykernel_3996/2940901596.py\u001b[0m in \u001b[0;36m<module>\u001b[1;34m\u001b[0m\n\u001b[0;32m     52\u001b[0m \u001b[1;33m\u001b[0m\u001b[0m\n\u001b[0;32m     53\u001b[0m                 \u001b[0mT\u001b[0m\u001b[1;33m[\u001b[0m\u001b[0mm\u001b[0m\u001b[1;33m+\u001b[0m\u001b[0mk\u001b[0m\u001b[1;33m,\u001b[0m \u001b[0mm\u001b[0m\u001b[1;33m+\u001b[0m\u001b[0mk\u001b[0m\u001b[1;33m:\u001b[0m\u001b[0mm\u001b[0m\u001b[1;33m:\u001b[0m\u001b[1;33m-\u001b[0m\u001b[1;36m1\u001b[0m\u001b[1;33m]\u001b[0m \u001b[1;33m=\u001b[0m \u001b[0msave1\u001b[0m\u001b[1;33m\u001b[0m\u001b[1;33m\u001b[0m\u001b[0m\n\u001b[1;32m---> 54\u001b[1;33m                 \u001b[0mT\u001b[0m\u001b[1;33m[\u001b[0m\u001b[0mm\u001b[0m\u001b[1;33m+\u001b[0m\u001b[0mk\u001b[0m\u001b[1;33m,\u001b[0m \u001b[0mm\u001b[0m\u001b[1;33m:\u001b[0m\u001b[0mm\u001b[0m\u001b[1;33m+\u001b[0m\u001b[0ms\u001b[0m\u001b[1;33m-\u001b[0m\u001b[0mk\u001b[0m\u001b[1;33m]\u001b[0m \u001b[1;33m=\u001b[0m \u001b[0msave2\u001b[0m\u001b[1;33m\u001b[0m\u001b[1;33m\u001b[0m\u001b[0m\n\u001b[0m\u001b[0;32m     55\u001b[0m     \u001b[0mt\u001b[0m \u001b[1;33m+=\u001b[0m \u001b[0mdt\u001b[0m\u001b[1;33m\u001b[0m\u001b[1;33m\u001b[0m\u001b[0m\n\u001b[0;32m     56\u001b[0m \u001b[1;33m\u001b[0m\u001b[0m\n",
      "\u001b[1;31mTypeError\u001b[0m: slice indices must be integers or None or have an __index__ method"
     ]
    },
    {
     "data": {
      "image/png": "[encoded data removed]",
      "text/plain": [
       "<Figure size 288x288 with 1 Axes>"
      ]
     },
     "metadata": {
      "needs_background": "light"
     },
     "output_type": "display_data"
    }
   ],
   "source": [
    "# T[i, j] = (T[i+1, j] + To[i-1, j] + To[i, j+1] + To[i, j-1])/4\n",
    "time = 1\n",
    "te = 20\n",
    "L = 0.9\n",
    "n = 90\n",
    "a = 0.016\n",
    "s = 0.1\n",
    "Ti = 30\n",
    "dx = L/n\n",
    "dy = dx\n",
    "dt = s/(a*(1/dx**2 + 1/dy**2))\n",
    "\n",
    "x = np.linspace(0, L, n)\n",
    "y = np.linspace(0, L, n)\n",
    "\n",
    "T = Ti * np.ones([n, n]) \n",
    "\n",
    "T[0:n-1, 0] = te\n",
    "T[0:n-1, n-1] = te\n",
    "T[0, 0:n-1] = te\n",
    "T[n-1, 0:n-1] = te\n",
    "\n",
    "m = int(n/2)\n",
    "size = int(m*2/3)\n",
    "for k in range(size):\n",
    "    #save1 = T[m+k, m+size-k:m+size] \n",
    "    #save2 = T[m+k, m-size:m-size+k+1]\n",
    "    T[m-size+k, m:m+k] = 100\n",
    "    T[m-size+k, m:m-k:-1] = 100\n",
    "    T[m+k, m-size:m+size] = 100\n",
    "    T[m+k, m+size-k:m+size] = Ti\n",
    "    T[m+k, m-size:m-size+k+1] = Ti\n",
    "t = 0\n",
    "plt.matshow(T)\n",
    "while t <= time:\n",
    "    To = T.copy()\n",
    "    for j in range(1, n-1):\n",
    "        for i in range(1, n-1):\n",
    "            T[i, j] = To[i, j] + dt*a*(((To[i-1, j] - 2*To[i, j] + To[i+1, j])/dx**2) + ((To[i, j-1] - 2*To[i,j] + To[i, j+1])/dy**2))\n",
    "            for k in range(size):\n",
    "                save1 = T[m+k, m+size-k:m+size] \n",
    "                save2 = T[m+k, m-size:m-size+k+1]\n",
    "                T[m-size+k, m:m+k] = 100\n",
    "                T[m-size+k, m:m-k:-1] = 100\n",
    "                T[m+k, m-size:m+size] = 100\n",
    "\n",
    "                \n",
    "                # preciso pegar o q está em save1 e save2 e atribuir nas linhas 49 e 50\n",
    "                #\n",
    "                # preciso arrumar o codigo do ex1 pq ta errado, \n",
    "                # precisa adicionar as temperaturas do meio antes do looping de caluclo\n",
    "        \n",
    "                T[m+k, m+k:m:-1] = save1\n",
    "                T[m+k, m:m+s-k] = save2\n",
    "    t += dt\n",
    "\n",
    "plt.figure(dpi=300)\n",
    "plt.ylim([-0.02,0.92])\n",
    "plt.xlim([-0.02, 0.92])\n",
    "X, Y = np.meshgrid(x, y)\n",
    "graf = plt.contour(X, Y, T, 9, vmin=20, vmax=100, linewidths=1, cmap='rainbow')\n",
    "plt.clabel(graf, fontsize=5)\n",
    "rectangle1 = plt.Rectangle((0,0), 0.9, 0.9, edgecolor='lightgrey', facecolor='wheat')\n",
    "rectangle2 = plt.Rectangle((0.45, 0.25), 0.3, 0.3, angle=45, edgecolor='lightgrey', facecolor='white')\n",
    "plt.gca().add_patch(rectangle1)\n",
    "plt.gca().add_patch(rectangle2)\n",
    "plt.show()\n"
   ]
  },
  {
   "cell_type": "code",
   "execution_count": null,
   "metadata": {},
   "outputs": [],
   "source": []
  }
 ],
 "metadata": {
  "kernelspec": {
   "display_name": "Python 3 (ipykernel)",
   "language": "python",
   "name": "python3"
  },
  "language_info": {
   "codemirror_mode": {
    "name": "ipython",
    "version": 3
   },
   "file_extension": ".py",
   "mimetype": "text/x-python",
   "name": "python",
   "nbconvert_exporter": "python",
   "pygments_lexer": "ipython3",
   "version": "3.9.5"
  }
 },
 "nbformat": 4,
 "nbformat_minor": 4
}
